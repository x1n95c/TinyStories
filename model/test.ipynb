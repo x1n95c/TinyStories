{
 "cells": [
  {
   "cell_type": "code",
   "execution_count": 6,
   "metadata": {},
   "outputs": [
    {
     "name": "stdout",
     "output_type": "stream",
     "text": [
      "****************************************************************************************************\n",
      "roneneldan/TinyStories-1M\n",
      "Total Parameters: 3745984\n",
      "----------------------------------------------------------------------------------------------------\n",
      "****************************************************************************************************\n",
      "roneneldan/TinyStories-3M\n",
      "Total Parameters: 8278400\n",
      "----------------------------------------------------------------------------------------------------\n",
      "****************************************************************************************************\n",
      "roneneldan/TinyStories-8M\n",
      "Total Parameters: 19702528\n",
      "----------------------------------------------------------------------------------------------------\n",
      "****************************************************************************************************\n",
      "roneneldan/TinyStories-28M\n",
      "Total Parameters: 51987968\n",
      "----------------------------------------------------------------------------------------------------\n",
      "****************************************************************************************************\n",
      "roneneldan/TinyStories-33M\n",
      "Total Parameters: 68514048\n",
      "----------------------------------------------------------------------------------------------------\n",
      "****************************************************************************************************\n",
      "roneneldan/TinyStories-1Layer-21M\n",
      "Total Parameters: 66155520\n",
      "----------------------------------------------------------------------------------------------------\n",
      "****************************************************************************************************\n",
      "roneneldan/TinyStories-2Layers-33M\n",
      "Total Parameters: 78748672\n",
      "----------------------------------------------------------------------------------------------------\n"
     ]
    }
   ],
   "source": [
    "from transformers import AutoModel\n",
    "\n",
    "\n",
    "\n",
    "# Load pretrained model for experimentation\n",
    "# [\"1M\",\"3M\",\"9M\",\"28M\",\"33M\",\"1Layer\",\"2Layer\"]roneneldan/TinyStories-Instuct-1Layer-21M\n",
    "for model_id in [\"1M\",\"3M\",\"8M\",\"28M\",\"33M\",\"1Layer-21M\",\"2Layers-33M\"]:\n",
    "    model_name = f'roneneldan/TinyStories-{model_id}'\n",
    "\n",
    "    # tokenizer = AutoTokenizer.from_pretrained(model_name)\n",
    "    pretrained_model = AutoModel.from_pretrained(model_name)\n",
    "    pretrained_model.save_pretrained(f\"/embedding/v-xingwuchen/ts_data/TinyStories/models/{model_name.split('/')[-1]}\") \n",
    "    params = pretrained_model.parameters()\n",
    "    print(\"*\"*100)\n",
    "    print(model_name)\n",
    "    print(\"Total Parameters:\", sum(p.numel() for p in pretrained_model.parameters()))\n",
    "    # print(f\"--vocab-size {pretrained_model.transformer.wte} --n-embd {pretrained_model.transformer.embed_dim} --n-layer {len(pretrained_model.transformer.h)}\")\n",
    "    # print(f\"--n-head {pretrained_model.transformer.h[0].attn.attention.num_heads} --n-positions {pretrained_model.transformer.wpe}\")\n",
    "    print(\"-\"*100)\n"
   ]
  }
 ],
 "metadata": {
  "kernelspec": {
   "display_name": "py38",
   "language": "python",
   "name": "python3"
  },
  "language_info": {
   "codemirror_mode": {
    "name": "ipython",
    "version": 3
   },
   "file_extension": ".py",
   "mimetype": "text/x-python",
   "name": "python",
   "nbconvert_exporter": "python",
   "pygments_lexer": "ipython3",
   "version": "3.8.17"
  },
  "orig_nbformat": 4
 },
 "nbformat": 4,
 "nbformat_minor": 2
}
