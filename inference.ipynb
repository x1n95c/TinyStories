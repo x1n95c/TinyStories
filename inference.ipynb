{
 "cells": [
  {
   "cell_type": "code",
   "execution_count": 1,
   "metadata": {},
   "outputs": [
    {
     "name": "stderr",
     "output_type": "stream",
     "text": [
      "/embedding/v-xingwuchen/miniconda3/envs/py38/lib/python3.8/site-packages/tqdm/auto.py:21: TqdmWarning: IProgress not found. Please update jupyter and ipywidgets. See https://ipywidgets.readthedocs.io/en/stable/user_install.html\n",
      "  from .autonotebook import tqdm as notebook_tqdm\n",
      "The attention mask and the pad token id were not set. As a consequence, you may observe unexpected behavior. Please pass your input's `attention_mask` to obtain reliable results.\n",
      "Setting `pad_token_id` to `eos_token_id`:50256 for open-end generation.\n"
     ]
    },
    {
     "name": "stdout",
     "output_type": "stream",
     "text": [
      "Output:\n",
      "----------------------------------------------------------------------------------------------------\n",
      "One day, a little girl named Lily found a needle in her room. \n",
      "\"Wow, look at this,\" said Lily. \n",
      "\"I want to try it!\" said Lily. \n",
      "\n",
      "\"No, Lily. It's too hard for you to try. Let's try it!\" said Lily. \n",
      "\n",
      "Lily was sad and said, \"I don't want to try it.\" \n",
      "\n",
      "Lily felt sad and said, \"I don't know. I don't want to try it.\" \n",
      "\n",
      "Lily felt sad and said, \"I don't know. I don't know how to do it.\" \n",
      "\n",
      "Lily felt sad and said, \"I don't know. I don't know how to do it.\" \n",
      "\n",
      "Lily felt bad and said, \"I'm sorry, Lily. I didn't know how to do it again.\" \n",
      "\n",
      "Lily felt bad and said, \"I'm sorry, Lily\n"
     ]
    }
   ],
   "source": [
    "from transformers import GPT2LMHeadModel,GPT2Tokenizer\n",
    "\n",
    "\n",
    "model_name = \"/embedding/v-xingwuchen/ts_data/TinyStories/tmp_models/TinyStories-1M_best\"\n",
    "\n",
    "pretrained_model = GPT2LMHeadModel.from_pretrained(model_name)\n",
    "tokenizer = GPT2Tokenizer.from_pretrained('gpt2')\n",
    "prompt = \"One day, a little girl named Lily found a needle in her room. \"\n",
    "input_ids = tokenizer.encode(prompt, return_tensors=\"pt\")\n",
    "greedy_output = pretrained_model.generate(input_ids, max_length=200)\n",
    "print(\"Output:\\n\" + 100 * '-')\n",
    "print(tokenizer.decode(greedy_output[0], skip_special_tokens=True))"
   ]
  }
 ],
 "metadata": {
  "kernelspec": {
   "display_name": "py38",
   "language": "python",
   "name": "python3"
  },
  "language_info": {
   "codemirror_mode": {
    "name": "ipython",
    "version": 3
   },
   "file_extension": ".py",
   "mimetype": "text/x-python",
   "name": "python",
   "nbconvert_exporter": "python",
   "pygments_lexer": "ipython3",
   "version": "3.8.17"
  },
  "orig_nbformat": 4
 },
 "nbformat": 4,
 "nbformat_minor": 2
}
