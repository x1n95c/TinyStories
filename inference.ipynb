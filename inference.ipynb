{
 "cells": [
  {
   "cell_type": "code",
   "execution_count": null,
   "metadata": {},
   "outputs": [],
   "source": [
    "from transformers import AutoModel,GPT2Tokenizer\n",
    "\n",
    "\n",
    "model_name = \"/embedding/v-xingwuchen/ts_data/TinyStories/tmp_models/TinyStories-1M_best\"\n",
    "\n",
    "pretrained_model = AutoModel.from_pretrained(model_name)\n",
    "tokenizer = GPT2Tokenizer.from_pretrained('gpt2')\n",
    "prompt = \"One day, a little girl named Lily found a needle in her room. \"\n",
    "input_ids = tokenizer.encode(prompt, return_tensors=\"pt\")\n",
    "greedy_output = pretrained_model.generate(input_ids, max_length=200)\n",
    "print(\"Output:\\n\" + 100 * '-')\n",
    "print(tokenizer.decode(greedy_output[0], skip_special_tokens=True))"
   ]
  }
 ],
 "metadata": {
  "language_info": {
   "name": "python"
  },
  "orig_nbformat": 4
 },
 "nbformat": 4,
 "nbformat_minor": 2
}
